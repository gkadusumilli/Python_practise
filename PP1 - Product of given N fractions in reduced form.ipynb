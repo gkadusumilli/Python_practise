{
 "cells": [
  {
   "cell_type": "markdown",
   "id": "18eac78d",
   "metadata": {},
   "source": [
    "### Product of given N fractions in reduced form"
   ]
  },
  {
   "cell_type": "markdown",
   "id": "dba47d8f",
   "metadata": {},
   "source": [
    "Given a numerator and denominator of N fractions.\n",
    "\n",
    "The task is to find the product of N fraction and output in the reduced form"
   ]
  },
  {
   "cell_type": "markdown",
   "id": "e234fae5",
   "metadata": {},
   "source": [
    "    Input N = 3\n",
    "           num[]={1, 2, 5}\n",
    "           den[]={2, 1, 6}\n",
    "    output: 5/6\n",
    "    Product of 1/2 * 2/1 * 5/6 is 10/12.\n",
    "    Reduced form of 10/12 is 5/6\n",
    "    \n",
    "    \n",
    "    Input: N =4\n",
    "            num[]={1, 2, 5, 9}\n",
    "            den[]={2, 1, 6, 27}\n",
    "    output: 5/18\n",
    "           \n",
    "        "
   ]
  },
  {
   "cell_type": "code",
   "execution_count": 1,
   "id": "0750326c",
   "metadata": {},
   "outputs": [
    {
     "name": "stdout",
     "output_type": "stream",
     "text": [
      "5 / 6\n"
     ]
    }
   ],
   "source": [
    "#function to return gcd of a & b\n",
    "\n",
    "def gcd(a,b):\n",
    "    if (a ==0):\n",
    "        return b\n",
    "    return gcd(b % a, a)\n",
    "\n",
    "#print the product of N fraction in Reduced form\n",
    "\n",
    "def productReduce(n, num, den):\n",
    "    new_num =1\n",
    "    new_den=1\n",
    "    \n",
    "    \n",
    "    for i in range(n):\n",
    "        new_num = new_num * num[i]\n",
    "        new_den = new_den * den[i]\n",
    "        \n",
    "    #finding GCD of new numerator and denominator\n",
    "    GCD =gcd(new_num, new_den)\n",
    "    \n",
    "    #converting into reduced form\n",
    "    \n",
    "    new_num = new_num / GCD\n",
    "    new_den = new_den / GCD\n",
    "    \n",
    "    print(int(new_num), \"/\",  int(new_den))\n",
    "    \n",
    "    \n",
    "n=3\n",
    "num=[1, 2, 5]\n",
    "den = [2, 1, 6]\n",
    "\n",
    "productReduce(n, num,den)\n",
    "        "
   ]
  },
  {
   "cell_type": "code",
   "execution_count": null,
   "id": "745b6790",
   "metadata": {},
   "outputs": [],
   "source": []
  }
 ],
 "metadata": {
  "kernelspec": {
   "display_name": "Python 3",
   "language": "python",
   "name": "python3"
  },
  "language_info": {
   "codemirror_mode": {
    "name": "ipython",
    "version": 3
   },
   "file_extension": ".py",
   "mimetype": "text/x-python",
   "name": "python",
   "nbconvert_exporter": "python",
   "pygments_lexer": "ipython3",
   "version": "3.6.8"
  }
 },
 "nbformat": 4,
 "nbformat_minor": 5
}
